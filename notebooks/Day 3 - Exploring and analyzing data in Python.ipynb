{
 "cells": [
  {
   "cell_type": "markdown",
   "metadata": {
    "slideshow": {
     "slide_type": "slide"
    }
   },
   "source": [
    "# Overview of Day 3\n",
    "* Preliminaries\n",
    "* Describing and summarizing data\n",
    "* Visualization with matplotlib, pandas and seaborn\n",
    "* Statistical analysis in SciPy and statsmodels"
   ]
  },
  {
   "cell_type": "markdown",
   "metadata": {
    "slideshow": {
     "slide_type": "subslide"
    }
   },
   "source": [
    "# Preliminaries\n",
    "* Import stuff\n",
    "* Load the preprocessed data"
   ]
  },
  {
   "cell_type": "code",
   "execution_count": null,
   "metadata": {
    "collapsed": false,
    "slideshow": {
     "slide_type": "fragment"
    }
   },
   "outputs": [],
   "source": [
    "import pandas as pd\n",
    "import numpy as np\n",
    "import matplotlib.pyplot as plt\n",
    "import seaborn as sns\n",
    "from scipy import stats\n",
    "import statsmodels.formula.api as smf\n",
    "import statsmodels.api as sm\n",
    "\n",
    "%matplotlib inline\n",
    "\n",
    "# Disable annoying SettingWithCopyWarning\n",
    "pd.options.mode.chained_assignment = None"
   ]
  },
  {
   "cell_type": "code",
   "execution_count": null,
   "metadata": {
    "collapsed": false,
    "slideshow": {
     "slide_type": "fragment"
    }
   },
   "outputs": [],
   "source": [
    "# If you don't have the data locally, use the commented line instead\n",
    "data = pd.read_csv('../data/preprocessed_data.csv')\n",
    "\n",
    "# data = pd.read_csv('https:// github.com/tyarkoni/SSI2016/blob/master/data/preprocessed_data.csv')  \n",
    "data.head()"
   ]
  },
  {
   "cell_type": "markdown",
   "metadata": {
    "slideshow": {
     "slide_type": "slide"
    }
   },
   "source": [
    "# Describing and summarizing data\n",
    "* It's a good idea to explore your data before you start modeling\n",
    "* Surprising how often interesting results reflect overlooked problems"
   ]
  },
  {
   "cell_type": "markdown",
   "metadata": {
    "slideshow": {
     "slide_type": "slide"
    }
   },
   "source": [
    "### A bird's eye view\n",
    "* Simple pandas tools for describing/inspecting entire datasets\n",
    "    * .describe(), .head() and .tail(), .dtypes(), etc..."
   ]
  },
  {
   "cell_type": "code",
   "execution_count": null,
   "metadata": {
    "collapsed": false,
    "slideshow": {
     "slide_type": "subslide"
    }
   },
   "outputs": [],
   "source": [
    "# Describe the continuous variables in the dataset\n",
    "# for both categorical and continuous variables, with quartiles\n",
    "data.describe(percentiles=[0.95, 0.2, 0.3])"
   ]
  },
  {
   "cell_type": "markdown",
   "metadata": {
    "slideshow": {
     "slide_type": "subslide"
    }
   },
   "source": [
    "## Frequency counts\n",
    "* 1-dimensional frequency counts can provide quick insight, diagnose problems\n",
    "* What are the [top dog and cat names](http://dogtime.com/dog-names/female-dog-names/21032-top-10-most-popular-dog-and-cat-names-of-2014) in Austin?"
   ]
  },
  {
   "cell_type": "code",
   "execution_count": null,
   "metadata": {
    "collapsed": false,
    "slideshow": {
     "slide_type": "fragment"
    }
   },
   "outputs": [],
   "source": [
    "top_n = 20\n",
    "for species in ['Dog', 'Cat']:\n",
    "    name_counts = data.query('animal == @species')['name'].value_counts()\n",
    "    print(\"\\nTop {} {} names:\\n{}\".format(top_n, species, name_counts[:top_n]))"
   ]
  },
  {
   "cell_type": "markdown",
   "metadata": {
    "slideshow": {
     "slide_type": "subslide"
    }
   },
   "source": [
    "### What the heck kind of name is \"X\"?"
   ]
  },
  {
   "cell_type": "code",
   "execution_count": null,
   "metadata": {
    "collapsed": false,
    "slideshow": {
     "slide_type": "fragment"
    }
   },
   "outputs": [],
   "source": [
    "data.query('name == \"X\"').head(10)"
   ]
  },
  {
   "cell_type": "markdown",
   "metadata": {
    "slideshow": {
     "slide_type": "subslide"
    }
   },
   "source": [
    "### Contingency tables\n",
    "* It's useful to examine contingency tables (or crosstabs) for pairs of variables\n",
    "* Normalized crosstabs can be particularly informative"
   ]
  },
  {
   "cell_type": "code",
   "execution_count": null,
   "metadata": {
    "collapsed": false,
    "slideshow": {
     "slide_type": "fragment"
    }
   },
   "outputs": [],
   "source": [
    "# Select only dogs\n",
    "dogs = data.query('animal==\"Dog\"')\n",
    "\n",
    "# Keep only common breeds--estimates won't be reliable for uncommon ones\n",
    "dogs = dogs.groupby('breed').filter(lambda x: len(x) >= 100)\n",
    "\n",
    "# How many breeds left?\n",
    "print(\"Unique breeds:\", dogs['breed'].nunique())\n",
    "\n",
    "# Generate contingency table\n",
    "ctab = pd.crosstab(dogs['breed'], data['outcome'])\n",
    "\n",
    "# Sort in descending order of number of animals of each breed\n",
    "ctab = ctab.loc[ctab.sum(1).sort_values(ascending=False).index]\n",
    "\n",
    "# Show just the top 10\n",
    "ctab[:10]"
   ]
  },
  {
   "cell_type": "markdown",
   "metadata": {
    "slideshow": {
     "slide_type": "subslide"
    }
   },
   "source": [
    "#### Normalized crosstabs\n",
    "We can normalize the crosstab by dividing by the sum of the rows and/or columns"
   ]
  },
  {
   "cell_type": "code",
   "execution_count": null,
   "metadata": {
    "collapsed": false,
    "slideshow": {
     "slide_type": "fragment"
    }
   },
   "outputs": [],
   "source": [
    "# Normalize by row to show proportion of animals accounted for by each outcome\n",
    "nctab = pd.crosstab(dogs['breed'], data['outcome'], normalize='index')\n",
    "nctab = nctab.round(2)  # Round to 2 decimal places for clarity\n",
    "nctab.iloc[:10]"
   ]
  },
  {
   "cell_type": "markdown",
   "metadata": {
    "slideshow": {
     "slide_type": "subslide"
    }
   },
   "source": [
    "Let's sort by specific outcomes to see, e.g., which breeds are euthanized or adopted most often."
   ]
  },
  {
   "cell_type": "code",
   "execution_count": null,
   "metadata": {
    "collapsed": false,
    "slideshow": {
     "slide_type": "fragment"
    }
   },
   "outputs": [],
   "source": [
    "# Top 10 breeds by euthanasia rate\n",
    "nctab.sort_values('Euthanasia', ascending=False).iloc[:10]"
   ]
  },
  {
   "cell_type": "markdown",
   "metadata": {
    "slideshow": {
     "slide_type": "subslide"
    }
   },
   "source": [
    "#### Drilling down further\n",
    "* Euthanasia is a pretty general category\n",
    "* Why are Chow Chows and Pit bulls being euthanized at such a high rate?\n",
    "* Repeat with outcome subtype"
   ]
  },
  {
   "cell_type": "code",
   "execution_count": null,
   "metadata": {
    "collapsed": false,
    "slideshow": {
     "slide_type": "fragment"
    }
   },
   "outputs": [],
   "source": [
    "# We can do the same thing for outcome subtype\n",
    "data['outcome_subtype'] = data['outcome_subtype'].fillna('Unknown')\n",
    "sctab = pd.crosstab(dogs['breed'], data['outcome_subtype'], normalize='index').round(2)\n",
    "\n",
    "# We could add a column for number of dogs in each breed\n",
    "sctab['number'] = dogs.groupby('breed')['animal'].count()\n",
    "\n",
    "# sort in descending order of 'aggressive'\n",
    "sctab.sort_values('Aggressive', ascending=False)[:10]"
   ]
  },
  {
   "cell_type": "markdown",
   "metadata": {
    "slideshow": {
     "slide_type": "subslide"
    }
   },
   "source": [
    "### What does this mean?\n",
    "~1 in 8 Pit Bulls that pass through AAC are euthanized (and 1 in 7 Chow Chows!). Some possible interpretations:\n",
    "* Pit bulls are much more dangerous than other dog breeds\n",
    "    * A genetic disposition?\n",
    "    * Abusive owners?\n",
    "* There could be a bias against pit bulls, causing many to be unnecessarily euthanized\n",
    "* Mixed-breed dogs with behavioral problems may be more likely to be labeled pit bulls\n",
    "* Others?"
   ]
  },
  {
   "cell_type": "markdown",
   "metadata": {
    "slideshow": {
     "slide_type": "slide"
    }
   },
   "source": [
    "# Visualization in Python\n",
    "* That thing about a picture being worth...\n",
    "* Python has a rich visualization ecosystem\n",
    "* The primary platform for visualization in Python is [matplotlib](http://matplotlib.org/)\n",
    "* Most other visualization platforms build on matplotlib\n",
    "    * But see, e.g., [Bokeh](http://bokeh.pydata.org/en/latest/)\n"
   ]
  },
  {
   "cell_type": "markdown",
   "metadata": {
    "slideshow": {
     "slide_type": "subslide"
    }
   },
   "source": [
    "## Matplotlib\n",
    "* Highly object-oriented (contrast with, e.g., R)\n",
    "    * Easy to modify/customize plots created in different packages\n",
    "* Documentation is comprehensive, but not very well organized\n",
    "* Provides a basic set of high-level plots (barplot, scatter, etc.)\n",
    "* Beyond that, API has a fairly steep learning curve"
   ]
  },
  {
   "cell_type": "markdown",
   "metadata": {
    "slideshow": {
     "slide_type": "subslide"
    }
   },
   "source": [
    "### Simple examples"
   ]
  },
  {
   "cell_type": "markdown",
   "metadata": {
    "slideshow": {
     "slide_type": "fragment"
    }
   },
   "source": [
    "#### Scatterplot"
   ]
  },
  {
   "cell_type": "code",
   "execution_count": null,
   "metadata": {
    "collapsed": false,
    "scrolled": false,
    "slideshow": {
     "slide_type": "fragment"
    }
   },
   "outputs": [],
   "source": [
    "plt.scatter(data['min_weight'], data['height'], color='green', s=30)\n",
    "plt.xlabel(\"Min. breed weight\")\n",
    "plt.ylabel(\"Min. breed height\")\n",
    "plt.title(\"Breed height vs. weight\");"
   ]
  },
  {
   "cell_type": "markdown",
   "metadata": {
    "slideshow": {
     "slide_type": "subslide"
    }
   },
   "source": [
    "#### Heatmap"
   ]
  },
  {
   "cell_type": "code",
   "execution_count": null,
   "metadata": {
    "collapsed": false,
    "slideshow": {
     "slide_type": "fragment"
    }
   },
   "outputs": [],
   "source": [
    "# A heatmap of the crosstab we made earlier\n",
    "plt.imshow(ctab[:10], cmap='Reds')\n",
    "plt.gca().grid('off')\n",
    "plt.yticks(np.arange(10), ctab[:10].index)\n",
    "plt.xticks(np.arange(8), ctab.columns, rotation=90);"
   ]
  },
  {
   "cell_type": "markdown",
   "metadata": {
    "slideshow": {
     "slide_type": "subslide"
    }
   },
   "source": [
    "#### Stacked bar plot"
   ]
  },
  {
   "cell_type": "code",
   "execution_count": null,
   "metadata": {
    "collapsed": false,
    "slideshow": {
     "slide_type": "fragment"
    }
   },
   "outputs": [],
   "source": [
    "# To prevent clutter, let's show bars only for breeds with > 200 occurrences\n",
    "min200 = dogs.groupby('breed').filter(lambda x: len(x) >= 200)\n",
    "\n",
    "ct = pd.crosstab(min200['breed'], min200['outcome'], normalize='index')\n",
    "\n",
    "n_breeds = ct.shape[0]\n",
    "breed_x = np.arange(n_breeds)\n",
    "labels = ct.columns\n",
    "n_bins = len(labels)\n",
    "\n",
    "# Set up figure\n",
    "plt.figure(figsize=(16, 6))\n",
    "\n",
    "# Set up colors--we use seaborn's color_palette utility for this\n",
    "colors = sns.color_palette('husl', n_bins)\n",
    "\n",
    "# Plot the first color\n",
    "plt.bar(breed_x, ct.iloc[:, 0], label=labels[0], color=colors[0])\n",
    "\n",
    "# Plot the other colors\n",
    "for i in range(1, len(labels)):\n",
    "    bottom = ct.iloc[:, :(i-1)].sum(1)\n",
    "    plt.bar(breed_x, ct.iloc[:, i], label=labels[i],\n",
    "            bottom=bottom, color=colors[i])\n",
    "    \n",
    "# Add x-axis labels\n",
    "plt.xticks(np.arange(n_breeds), ct.index, rotation=90, fontsize=16);\n",
    "\n",
    "# Add the legend outside the plot.\n",
    "# The handles stuff is just to reverse the label order to match the bars\n",
    "plt.legend(bbox_to_anchor=(1, 1), fontsize=20);\n",
    "\n",
    "# # A slightly more complicated version if we want to reverse the legend order\n",
    "# # to match the bars more closely\n",
    "# handles, labels = plt.gca().get_legend_handles_labels()\n",
    "# plt.legend(handles[::-1], labels[::-1], bbox_to_anchor=(1, 1), fontsize=20,);"
   ]
  },
  {
   "cell_type": "markdown",
   "metadata": {
    "slideshow": {
     "slide_type": "subslide"
    }
   },
   "source": [
    "## Customization in matplotlib\n",
    "* matplotlib is infinitely customizable\n",
    "* As in most modern plotting environments, you can do virtually anything\n",
    "* You just have to be willing to spend enough time on it"
   ]
  },
  {
   "cell_type": "markdown",
   "metadata": {
    "slideshow": {
     "slide_type": "subslide"
    }
   },
   "source": [
    "### Matplotlib styles\n",
    "<img src=\"https://raw.githubusercontent.com/rasbt/matplotlib-gallery/master/images/formatting_4.png\">\n",
    "https://twitter.com/rasbt/status/731205324187795457"
   ]
  },
  {
   "cell_type": "code",
   "execution_count": null,
   "metadata": {
    "collapsed": false,
    "slideshow": {
     "slide_type": "slide"
    }
   },
   "outputs": [],
   "source": [
    "# A whole bunch of custom plotting code, just to generate\n",
    "# a relatively simple result.\n",
    "def plot_outcomes_by_time(data, unit='hour', min_unit=None, max_unit=None,\n",
    "                          animal=None, panel=None, agg_func='count'):\n",
    "    ''' Custom plotting functions that displays the number of\n",
    "    outcomes of each type as a function of a unit of time and\n",
    "    (optionally) any categorical variable.\n",
    "    '''\n",
    "    if animal is not None:\n",
    "        data = data[data['animal'].isin(animal)]\n",
    "    if panel is not None:\n",
    "        if panel == 'year':\n",
    "            panel_vars = [2014, 2015]\n",
    "        else:\n",
    "            panel_vars = data[panel].unique()\n",
    "        n_panels = len(panel_vars)\n",
    "        fig, axes = plt.subplots(1, n_panels, figsize=(4*n_panels, 4),\n",
    "                                 sharex=True, sharey=True)\n",
    "    else:\n",
    "        axes = [plt.gca()]\n",
    "\n",
    "    outcomes = ['Adoption', 'Transfer', 'Return to Owner', 'Euthanasia']\n",
    "    dummies = pd.get_dummies(data['outcome'])\n",
    "    data = pd.concat([data, dummies], axis=1)\n",
    "    \n",
    "    if min_unit is not None:\n",
    "        data = data[data[unit] >= min_unit]\n",
    "    if max_unit is not None:\n",
    "        data = data[data[unit] <= max_unit]\n",
    "    \n",
    "    for oc in outcomes:\n",
    "        groupers = [unit]\n",
    "        if panel is not None:\n",
    "            groupers.append(panel)\n",
    "        line = data.query('outcome==@oc')\\\n",
    "            .groupby(groupers)[oc].agg(agg_func).reset_index()\n",
    "        if panel is not None:\n",
    "            for i, pan in enumerate(panel_vars):\n",
    "                pan_line = line[line[panel]==pan]\n",
    "                axes[i].plot(pan_line[unit], pan_line[oc], label=oc, lw=3)\n",
    "                axes[i].set_title('{}: {}'.format(panel, pan), fontsize=18)\n",
    "                axes[i].set_xlabel(unit, fontsize=18)\n",
    "                axes[i].set_ylabel(\"No. of outcomes\", fontsize=18)\n",
    "    plt.legend(fontsize=16, loc='best')"
   ]
  },
  {
   "cell_type": "code",
   "execution_count": null,
   "metadata": {
    "collapsed": false,
    "slideshow": {
     "slide_type": "subslide"
    }
   },
   "outputs": [],
   "source": [
    "# Now we can flexibly call our custom plotter\n",
    "\n",
    "# # Plot outcome counts by hour, paneling by animal\n",
    "# plot_outcomes_by_time(data, animal=['Cat'], unit='hour', panel='year')\n",
    "# plt.gcf().set_size_inches((15, 5))\n",
    "\n",
    "# Plot outcome counts by day of week, only for dogs, paneling by year\n",
    "plot_outcomes_by_time(data, animal=['Dog'], unit='day', panel='year')\n",
    "plt.gcf().set_size_inches((10, 5))"
   ]
  },
  {
   "cell_type": "markdown",
   "metadata": {
    "slideshow": {
     "slide_type": "subslide"
    }
   },
   "source": [
    "### Alternative interfaces to matplotlib\n",
    "* Most of the time you don't want to spend three hours making a nice barplot\n",
    "* The appeal of packages like ggplot2 (in R) is power and elegance with speed\n",
    "* A number of high-level Python plotting packages built on matplotlib exist\n",
    "* You can always customize any plot after the fact"
   ]
  },
  {
   "cell_type": "markdown",
   "metadata": {
    "slideshow": {
     "slide_type": "skip"
    }
   },
   "source": [
    "### ggplot for Python\n",
    "* ggplot2 has been (mostly) [ported to Python](http://ggplot.yhathq.com/)\n",
    "* Syntax is fairly similar\n",
    "* Works for the most part, but not ready for prime time\n",
    "    * For example..."
   ]
  },
  {
   "cell_type": "code",
   "execution_count": null,
   "metadata": {
    "collapsed": false,
    "slideshow": {
     "slide_type": "skip"
    }
   },
   "outputs": [],
   "source": [
    "# This is the example on ggplot's front page\n",
    "from ggplot import ggplot, aes, meat, geom_line, stat_smooth\n",
    "\n",
    "ggplot(aes(x='date', y='beef'), data=meat) + geom_line() + stat_smooth(colour='blue', span=0.2)"
   ]
  },
  {
   "cell_type": "markdown",
   "metadata": {
    "slideshow": {
     "slide_type": "subslide"
    }
   },
   "source": [
    "### Plotting in pandas\n",
    "* Pandas provides basic plotting functionality\n",
    "* Well-integrated with DataFrames\n",
    "* Often the easiest way to quickly explore the data"
   ]
  },
  {
   "cell_type": "markdown",
   "metadata": {
    "slideshow": {
     "slide_type": "subslide"
    }
   },
   "source": [
    "#### Visualizing distributions in pandas"
   ]
  },
  {
   "cell_type": "code",
   "execution_count": null,
   "metadata": {
    "collapsed": false,
    "slideshow": {
     "slide_type": "fragment"
    }
   },
   "outputs": [],
   "source": [
    "# To keep things simple, let's select only breeds with > 300 observations\n",
    "many_dogs = dogs.groupby('breed').filter(lambda x: len(x)>300)\n",
    "\n",
    "# Plot age histograms for all remaining breeds--with shared x-axis\n",
    "# to facilitate comparisons between breeds.\n",
    "many_dogs['age'].hist(by=many_dogs['breed'], bins=10, sharex=True);\n",
    "\n",
    "# Embiggen the figure a bit\n",
    "plt.gcf().set_size_inches((16, 16))"
   ]
  },
  {
   "cell_type": "markdown",
   "metadata": {
    "slideshow": {
     "slide_type": "subslide"
    }
   },
   "source": [
    "#### Stacked bars, the easy way"
   ]
  },
  {
   "cell_type": "code",
   "execution_count": null,
   "metadata": {
    "collapsed": false,
    "slideshow": {
     "slide_type": "subslide"
    }
   },
   "outputs": [],
   "source": [
    "# Our normalized cross-tab from earlier, with only breeds that\n",
    "# have a minimum of 200 observations\n",
    "min200 = dogs.groupby('breed').filter(lambda x: len(x) >= 200)\n",
    "ct = pd.crosstab(min200['breed'], min200['outcome'], normalize='index')\n",
    "\n",
    "# The same result, with much less code\n",
    "ct.plot.bar(stacked=True, fontsize=14)\n",
    "\n",
    "# Add the legend outside the plot\n",
    "plt.legend(bbox_to_anchor=(1, 1), fontsize=16)\n",
    "\n",
    "# Resize everything\n",
    "plt.gcf().set_size_inches((12, 6))\n",
    "\n",
    "# Ruh-roh! Ugly colors! Fortunately, we can manually pass in a list of\n",
    "# colors to use via the colors argument to plot.bar(). We could reuse\n",
    "# the color list we created earlier in seaborn, for example."
   ]
  },
  {
   "cell_type": "markdown",
   "metadata": {
    "slideshow": {
     "slide_type": "subslide"
    }
   },
   "source": [
    "## Plotting in seaborn\n",
    "* Seaborn is a high-level plotting library based on matplotlib\n",
    "* Designed to produce attractive figures in very little code\n",
    "* _Great_ [documentation](https://stanford.edu/~mwaskom/software/seaborn/index.html)\n",
    "* Most seaborn plotting functions accept pandas DataFrames\n",
    "* Complete customization of seaborn plots is possible using matplotlib"
   ]
  },
  {
   "cell_type": "markdown",
   "metadata": {
    "slideshow": {
     "slide_type": "subslide"
    }
   },
   "source": [
    "### Heatmaps"
   ]
  },
  {
   "cell_type": "code",
   "execution_count": null,
   "metadata": {
    "collapsed": false,
    "slideshow": {
     "slide_type": "fragment"
    }
   },
   "outputs": [],
   "source": [
    "# The same contingency table from earlier.\n",
    "\n",
    "ax = sns.heatmap(ctab[:12], annot=True, fmt='d', linewidths=.5,\n",
    "                 annot_kws={'size': 14})\n",
    "\n",
    "# Customize the label size and figure size in base matplotlib.\n",
    "# Notice we can access all axis and figure properties through\n",
    "# # the handle we saved when calling seaborn.\n",
    "ax.tick_params(labelsize=14)\n",
    "ax.figure.set_size_inches((7, 8))  # update the plot size"
   ]
  },
  {
   "cell_type": "markdown",
   "metadata": {
    "slideshow": {
     "slide_type": "subslide"
    }
   },
   "source": [
    "#### Pairwise correlations between all numeric variables in the dataset"
   ]
  },
  {
   "cell_type": "code",
   "execution_count": null,
   "metadata": {
    "collapsed": false,
    "slideshow": {
     "slide_type": "fragment"
    }
   },
   "outputs": [],
   "source": [
    "# Plot a heatmap of pairwise correlations between all continuous variables\n",
    "r = data.query('animal==\"Dog\"').corr().round(2)\n",
    "with sns.plotting_context(\"notebook\", font_scale=1.1):\n",
    "    ax = sns.heatmap(r, annot=True)\n",
    "    ax.figure.set_size_inches((12, 9.5))"
   ]
  },
  {
   "cell_type": "markdown",
   "metadata": {
    "slideshow": {
     "slide_type": "subslide"
    }
   },
   "source": [
    "* Why do month and year show a strong negative correlation (-0.37)?\n",
    "* Illustrates the need for caution\n",
    "    * Most \"interesting\" findings turn out to have banal explanations!"
   ]
  },
  {
   "cell_type": "markdown",
   "metadata": {
    "slideshow": {
     "slide_type": "subslide"
    }
   },
   "source": [
    "### Pair plots\n",
    "* Systematic inspection of pairwise relationships is very useful\n",
    "* We've established that some breeds have very different outcomes\n",
    "* How do outcomes relate to one another at the breed level?\n",
    "    * Do some outcomes trade off against others?"
   ]
  },
  {
   "cell_type": "code",
   "execution_count": null,
   "metadata": {
    "collapsed": false,
    "slideshow": {
     "slide_type": "subslide"
    }
   },
   "outputs": [],
   "source": [
    "# Breed-level correlations between different outcomes and traits\n",
    "\n",
    "# Restrict to breed with minimum 50 dogs and outcomes with min. 200 occurrences\n",
    "_data = data.query('animal==\"Dog\"')\n",
    "_data = _data.groupby('outcome').filter(lambda x: len(x) >= 200)\n",
    "_data = _data.groupby('breed').filter(lambda x: len(x) >= 50)\n",
    "\n",
    "# Dummy-code the outcomes as binary indicators and concatenate with original data\n",
    "outcomes = pd.get_dummies(_data['outcome'])\n",
    "_data = pd.concat([_data, outcomes], axis=1)\n",
    "\n",
    "# Group by breed and calculate means\n",
    "_data = _data.groupby(['group', 'breed']).mean().dropna().reset_index()\n",
    "_data = _data[['Adoption', 'Euthanasia', 'Return to Owner', 'Transfer', 'group']]\n",
    "dog_breed_means = _data  # Save for later\n",
    "\n",
    "# The actual plotting code is just this\n",
    "with sns.plotting_context(\"notebook\", font_scale=1.3):  # Make text bigger\n",
    "    sns.pairplot(_data, diag_kind='kde', kind='reg')"
   ]
  },
  {
   "cell_type": "code",
   "execution_count": null,
   "metadata": {
    "collapsed": false,
    "slideshow": {
     "slide_type": "subslide"
    }
   },
   "outputs": [],
   "source": [
    "# # Another way to look at the same data...\n",
    "with sns.plotting_context(\"notebook\", font_scale=1.3):  # Make text bigger\n",
    "    ax = sns.pairplot(_data, diag_kind='kde', hue='group')"
   ]
  },
  {
   "cell_type": "markdown",
   "metadata": {
    "slideshow": {
     "slide_type": "subslide"
    }
   },
   "source": [
    "### Bar plots\n",
    "* Let's explore how outcomes differ as a function of the variables in our dataset\n",
    "* We'll start by visualizing the raw counts for different animals"
   ]
  },
  {
   "cell_type": "code",
   "execution_count": null,
   "metadata": {
    "collapsed": false,
    "slideshow": {
     "slide_type": "fragment"
    }
   },
   "outputs": [],
   "source": [
    "# Probably no point in keeping livestock and birds!\n",
    "x_var = 'outcome'\n",
    "panel_var = 'animal'\n",
    "g = sns.factorplot(x=x_var, data=data, col=panel_var, kind='count')\n",
    "g.set_xticklabels(rotation=45);"
   ]
  },
  {
   "cell_type": "markdown",
   "metadata": {
    "slideshow": {
     "slide_type": "subslide"
    }
   },
   "source": [
    "The previous plot is kind of useful, so let's abstract it into a method. Then we can do the same thing (even more) quickly for other combinations of variables."
   ]
  },
  {
   "cell_type": "code",
   "execution_count": null,
   "metadata": {
    "collapsed": false
   },
   "outputs": [],
   "source": [
    "def aac_factorplot(data, x, facet, y=None, kind='count'):\n",
    "    g = sns.factorplot(x=x, data=data, y=y, col=facet, kind=kind)\n",
    "    g.set_xticklabels(rotation=90)\n",
    "\n",
    "# Let's restrict analysis to only full-year data.\n",
    "years = [2014, 2015, 2016]\n",
    "full_years = data.query('year in @years')\n",
    "aac_factorplot(full_years, 'outcome', 'year')"
   ]
  },
  {
   "cell_type": "markdown",
   "metadata": {
    "slideshow": {
     "slide_type": "slide"
    }
   },
   "source": [
    "#### Do temporal variables matter?\n",
    "* We might expect day of the week to matter"
   ]
  },
  {
   "cell_type": "code",
   "execution_count": null,
   "metadata": {
    "collapsed": false,
    "slideshow": {
     "slide_type": "fragment"
    }
   },
   "outputs": [],
   "source": [
    "_data = data[data['animal'].isin(['Dog', 'Cat'])]\n",
    "_data = _data.groupby('outcome').filter(lambda x: len(x) >= 500)\n",
    "sns.factorplot(x='animal', data=_data, hue='outcome', col='day', kind='count') ;"
   ]
  },
  {
   "cell_type": "markdown",
   "metadata": {
    "slideshow": {
     "slide_type": "subslide"
    }
   },
   "source": [
    "#### What about age?"
   ]
  },
  {
   "cell_type": "code",
   "execution_count": null,
   "metadata": {
    "collapsed": false,
    "slideshow": {
     "slide_type": "fragment"
    }
   },
   "outputs": [],
   "source": [
    "_data = data[data['animal'].isin(['Dog', 'Cat'])]\n",
    "_data = _data.groupby('outcome').filter(lambda x: len(x) >= 500)\n",
    "sns.factorplot(x='animal', y='age', data=_data, hue='outcome', col='year', kind='bar')"
   ]
  },
  {
   "cell_type": "markdown",
   "metadata": {
    "slideshow": {
     "slide_type": "subslide"
    }
   },
   "source": [
    "#### Color?"
   ]
  },
  {
   "cell_type": "code",
   "execution_count": null,
   "metadata": {
    "collapsed": false,
    "scrolled": false,
    "slideshow": {
     "slide_type": "fragment"
    }
   },
   "outputs": [],
   "source": [
    "# Restrict to just dogs\n",
    "_data = data[data['animal'].isin(['Dog'])]\n",
    "\n",
    "# Filter on colors with more than 200 rows and outcomes with more than 500\n",
    "_data = _data.groupby('first_color').filter(lambda x: len(x) >= 200)\n",
    "_data = _data.groupby('outcome').filter(lambda x: len(x) >= 500)\n",
    "\n",
    "# Plot!\n",
    "sns.factorplot(x='outcome', data=_data, hue='first_color', kind='count', )\n",
    "plt.gcf().set_size_inches((8, 4))\n",
    "\n",
    "# It would be nice if the colors matched the labels, but that would\n",
    "# be more work..."
   ]
  },
  {
   "cell_type": "markdown",
   "metadata": {
    "slideshow": {
     "slide_type": "subslide"
    }
   },
   "source": [
    "### What about uncertainty?\n",
    "* Thus far we've completely ignored estimation uncertainty\n",
    "* Good visualization represents uncertainty in a clear way\n",
    "* E.g., error bars, comparison distributions, etc."
   ]
  },
  {
   "cell_type": "markdown",
   "metadata": {
    "slideshow": {
     "slide_type": "subslide"
    }
   },
   "source": [
    "#### Animal age with bootstrapped CIs\n",
    "* Let's estimate the mean age of different dog breeds, broken down by outcome and day of week\n",
    "* By default, many seaborn plotting commands will bootstrap 95% confidence intervals"
   ]
  },
  {
   "cell_type": "code",
   "execution_count": null,
   "metadata": {
    "collapsed": false,
    "slideshow": {
     "slide_type": "fragment"
    }
   },
   "outputs": [],
   "source": [
    "# Only dogs, cats, and other; the rest have too few observations\n",
    "_data = data.query('animal==\"Dog\"')\n",
    "\n",
    "# Only the most common breeds\n",
    "_data = _data.groupby('breed').filter(lambda x: len(x) >= 1000)\n",
    "\n",
    "# Drop infrequent outcomes\n",
    "_data = _data.groupby('outcome').filter(lambda x: len(x) >= 500)\n",
    "\n",
    "# Display age in years\n",
    "_data['age'] /= 12.0\n",
    "\n",
    "# Plot mean age by outcome on x-axis and separate columns for breeds\n",
    "g = sns.factorplot(x='outcome', data=_data, y='age', col='breed')\n",
    "g.set_xticklabels(rotation=90, fontsize=16);\n",
    "\n",
    "# In-class exercise: compare the result with what we'd get\n",
    "# without error bars. Would the conclusions we draw from the\n",
    "# data change? What about if we add in some less frequent\n",
    "# outcomes, breeds, etc.?"
   ]
  },
  {
   "cell_type": "markdown",
   "metadata": {
    "slideshow": {
     "slide_type": "slide"
    }
   },
   "source": [
    "# Statistical analysis\n",
    "* Python is historically not widely used for traditional statistics\n",
    "    * It's improving fast, but will probably never catch up to R\n",
    "* But it has decent support for many common techniques\n",
    "* Shines in:\n",
    "    * Machine learning\n",
    "    * Specific science domains--e.g., astrophysics, ecology, neuroimaging\n",
    "    * More computationally-oriented domains--e.g., deep learning, Bayesian analysis"
   ]
  },
  {
   "cell_type": "markdown",
   "metadata": {
    "slideshow": {
     "slide_type": "subslide"
    }
   },
   "source": [
    "## Statistical tools in SciPy\n",
    "* The SciPy package includes a well-developed [stats module](http://docs.scipy.org/doc/scipy/reference/stats.html)\n",
    "* Caters more to computational scientists than end users\n",
    "    * Interface is heavily object-oriented\n",
    "    * You usually have to take the extra step yourself\n",
    "    * Performance is very good, but interface is clunky"
   ]
  },
  {
   "cell_type": "markdown",
   "metadata": {
    "slideshow": {
     "slide_type": "subslide"
    }
   },
   "source": [
    "### Lots of descriptives and convenience functions"
   ]
  },
  {
   "cell_type": "code",
   "execution_count": null,
   "metadata": {
    "collapsed": false,
    "slideshow": {
     "slide_type": "fragment"
    }
   },
   "outputs": [],
   "source": [
    "# Descriptive statistics for age in months\n",
    "print(stats.describe(data['age'].dropna()))\n",
    "\n",
    "# Plenty of little convenience functions\n",
    "age = 60 \n",
    "percentile = stats.percentileofscore(data['age'], age)\n",
    "print(\"\\nA {}-month old animal is at the {:.0f}th percentile.\".format(age, percentile))"
   ]
  },
  {
   "cell_type": "markdown",
   "metadata": {
    "slideshow": {
     "slide_type": "subslide"
    }
   },
   "source": [
    "### Distributions a-plenty\n",
    "* Large number of statistical [distributions](http://docs.scipy.org/doc/scipy/reference/stats.html#continuous-distributions)\n",
    "* All of the standard distribution functions (pdf, cdf, random sampling, etc.) "
   ]
  },
  {
   "cell_type": "code",
   "execution_count": null,
   "metadata": {
    "collapsed": false,
    "slideshow": {
     "slide_type": "fragment"
    }
   },
   "outputs": [],
   "source": [
    "# Sample 100000 observations...\n",
    "n = 100000\n",
    "\n",
    "# ...from each of the normal, t(10), and beta(2, 5) distributions\n",
    "normal = stats.norm.rvs(size=n)\n",
    "t = stats.t.rvs(df=10, size=n)\n",
    "beta = stats.beta.rvs(a=2, b=5, loc=-2, scale=6, size=n)\n",
    "\n",
    "# Set up figure\n",
    "ax = plt.figure(figsize=(6, 4)).gca()\n",
    "\n",
    "# Plot a kde plot of each distribution\n",
    "labels = ['t', 'normal', 'beta']\n",
    "for i, dist in enumerate([t, normal, beta]):\n",
    "    sns.kdeplot(dist, ax=ax, lw=2, label=labels[i])\n"
   ]
  },
  {
   "cell_type": "code",
   "execution_count": null,
   "metadata": {
    "collapsed": false,
    "slideshow": {
     "slide_type": "fragment"
    }
   },
   "outputs": [],
   "source": [
    "# Use CDF of normal to convert p-values to z-scores\n",
    "print(stats.norm.ppf(0.001))\n",
    "\n",
    "# t statistic to p-value\n",
    "print(stats.t.cdf(1.46, df=22))\n",
    "\n",
    "# Endpoints of interval containing 90% of distribution\n",
    "print(stats.beta.interval(0.9, a=2, b=5))"
   ]
  },
  {
   "cell_type": "markdown",
   "metadata": {
    "slideshow": {
     "slide_type": "subslide"
    }
   },
   "source": [
    "### Basic tests\n",
    "* You can do things like t-tests and ANOVAs with SciPy if you really want\n",
    "* But there are more pleasant ways"
   ]
  },
  {
   "cell_type": "code",
   "execution_count": null,
   "metadata": {
    "collapsed": false,
    "slideshow": {
     "slide_type": "fragment"
    }
   },
   "outputs": [],
   "source": [
    "# Independent samples t-test: do cats and dogs processed at the center differ in age?\n",
    "\n",
    "# Extract \n",
    "dog_age = data.query('animal==\"Dog\"')['age'].dropna()\n",
    "cat_age = data.query('animal==\"Cat\"')['age'].dropna()\n",
    "\n",
    "# ttest_ind returns a tuple of t and p values\n",
    "t, p = stats.ttest_ind(dog_age, cat_age)\n",
    "\n",
    "# Report means as well\n",
    "dm, cm = dog_age.mean(), cat_age.mean()\n",
    "\n",
    "# Print something for the user\n",
    "print(\"Dogs (mean = {:.2f}) vs. Cats (mean = {:.2f}), t = {:.2f}, p={:.2g}\".format(dm, cm, t, p))"
   ]
  },
  {
   "cell_type": "markdown",
   "metadata": {
    "slideshow": {
     "slide_type": "subslide"
    }
   },
   "source": [
    "## [Statsmodels](http://statsmodels.sourceforge.net/devel/index.html#)\n",
    "* Python's answer to base R\n",
    "* It's not a great answer\n",
    "* But it's getting there, and things [move quickly](https://github.com/statsmodels/statsmodels/issues)\n",
    "* For common procedures, functionality is very similar to R"
   ]
  },
  {
   "cell_type": "markdown",
   "metadata": {
    "slideshow": {
     "slide_type": "subslide"
    }
   },
   "source": [
    "### What's in statsmodels\n",
    "* Basic tests\n",
    "* Linear models\n",
    "* Diagnostics and specification tests\n",
    "* Power calculations\n",
    "* Multiple comparisons correction\n",
    "* Time-series analysis\n",
    "* Experimental support for many other things (e.g. mixed-effects models)"
   ]
  },
  {
   "cell_type": "markdown",
   "metadata": {
    "slideshow": {
     "slide_type": "subslide"
    }
   },
   "source": [
    "### Statsmodel examples\n",
    "* Let's build a model to predict whether an animal is euthanized or not\n",
    "* We'll use logistic regression with the native statsmodels API\n",
    "* We'll start by predicting euthanasia from just age, sex, and sterilization"
   ]
  },
  {
   "cell_type": "code",
   "execution_count": null,
   "metadata": {
    "collapsed": false,
    "slideshow": {
     "slide_type": "subslide"
    }
   },
   "outputs": [],
   "source": [
    "# Drop missing values from analysis\n",
    "_data = data[['outcome', 'age', 'sex', 'sterilized']].dropna()\n",
    "print(\"Kept {} observations.\".format(len(_data)))\n",
    "\n",
    "# Add intercept manually for logistic model\n",
    "_data['intercept'] = 1\n",
    "\n",
    "# The dependent variable: whether the animal was euthanized\n",
    "y = (_data['outcome'] == 'Euthanasia').astype(int)\n",
    "\n",
    "# Remove outcome from the X variables\n",
    "_data.pop('outcome')\n",
    "\n",
    "# Regression on continuous predictors is simple\n",
    "model = sm.Logit(y, _data)\n",
    "\n",
    "# Fit model and save result\n",
    "result = model.fit()\n",
    "\n",
    "# Print a user-friendly summary\n",
    "result.summary()"
   ]
  },
  {
   "cell_type": "markdown",
   "metadata": {
    "slideshow": {
     "slide_type": "subslide"
    }
   },
   "source": [
    "### Adding categorical predictors\n",
    "* Old animals are more likely to be euthanized\n",
    "* Is this explained by differences in species, breed, etc.?\n",
    "* We can add categorical predictors either by:\n",
    "    * Constructing the dummy variables ourselves (e.g., with pandas)\n",
    "    * Using the patsy module to do it in an R-like way"
   ]
  },
  {
   "cell_type": "code",
   "execution_count": null,
   "metadata": {
    "collapsed": false,
    "slideshow": {
     "slide_type": "subslide"
    }
   },
   "outputs": [],
   "source": [
    "# There are nearly 1,800 unique values for breed in our data.\n",
    "# We can't get reasonable estimate for most of those; there\n",
    "# are too few observations. Let's restrict analysis to\n",
    "# common dog breeds--100 or more individuals.\n",
    "_data = data.query('animal==\"Dog\"')\n",
    "_data = _data.groupby('breed').filter(lambda x: len(x) >= 100)\n",
    "\n",
    "# The NaNs in some columns might cause problems; let's replace them\n",
    "cols = ['sex', 'sterilized']\n",
    "_data[cols] = _data[cols].fillna('Unknown')\n",
    "\n",
    "# Explicitly add the dependent variable\n",
    "_data['y'] = (_data['outcome'] == 'Euthanasia').astype(int)\n",
    "\n",
    "# We can easily set up the design matrix with an R-style formula\n",
    "from patsy import dmatrices\n",
    "y, X = dmatrices('y ~ age + breed + C(sex) + C(sterilized)',\n",
    "                 data=_data, return_type='dataframe')\n",
    "\n",
    "results = sm.Logit(y, X).fit()\n",
    "results.summary()"
   ]
  },
  {
   "cell_type": "code",
   "execution_count": null,
   "metadata": {
    "collapsed": false,
    "scrolled": true,
    "slideshow": {
     "slide_type": "subslide"
    }
   },
   "outputs": [],
   "source": [
    "# The coefficients are in logit space; we can convert them to odds ratios\n",
    "np.exp(results.params).sort_values()"
   ]
  }
 ],
 "metadata": {
  "celltoolbar": "Slideshow",
  "kernelspec": {
   "display_name": "Python 3",
   "language": "python",
   "name": "python3"
  },
  "language_info": {
   "codemirror_mode": {
    "name": "ipython",
    "version": 3
   },
   "file_extension": ".py",
   "mimetype": "text/x-python",
   "name": "python",
   "nbconvert_exporter": "python",
   "pygments_lexer": "ipython3",
   "version": "3.5.2"
  }
 },
 "nbformat": 4,
 "nbformat_minor": 0
}
